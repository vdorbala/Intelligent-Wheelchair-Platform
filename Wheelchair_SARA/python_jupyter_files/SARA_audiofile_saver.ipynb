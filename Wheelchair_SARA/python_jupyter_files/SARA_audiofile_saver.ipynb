{
 "cells": [
  {
   "cell_type": "code",
   "execution_count": 28,
   "metadata": {},
   "outputs": [
    {
     "name": "stdout",
     "output_type": "stream",
     "text": [
      "<class 'pydub.audio_segment.AudioSegment'>\n",
      "<class 'pydub.audio_segment.AudioSegment'>\n",
      "<class 'pydub.audio_segment.AudioSegment'>\n",
      "<class 'pydub.audio_segment.AudioSegment'>\n",
      "<class 'pydub.audio_segment.AudioSegment'>\n"
     ]
    },
    {
     "data": {
      "text/plain": [
       "0"
      ]
     },
     "execution_count": 28,
     "metadata": {},
     "output_type": "execute_result"
    }
   ],
   "source": [
    "import os\n",
    "import speech_recognition as sr\n",
    "import subprocess\n",
    "from gtts import gTTS\n",
    "import time\n",
    "from pydub import AudioSegment\n",
    "\n",
    "#dialogue_0\n",
    "intro_text_0 = [\"Hi, I am SARA !\", \"a Semi Autonoumus Robot Assistant\", \"tell me\", \"Do you need a coffee?\" ]\n",
    "yes_response_0 = [\"ok\", \"I can help you with that, but I may need your assistance\", \"will you help me ?\" ]\n",
    "no_response_0 =  [ \"ok\", \"Let me know if you ever need a coffee\"]  \n",
    "\n",
    "#dialogue_1\n",
    "yes_response_1 = [\"excellent\", \"Now, take my handle\", \"and then say START\" ]\n",
    "no_response_1 = [\"Sorry\", \"but I still have to be equipped with an autonomous navigation function\"]\n",
    "\n",
    "\n",
    "#dialogue_2\n",
    "yes_response_2 = [\"I'm gonna start my navigation viewer now\", \"please wait for a while\",\n",
    "                  \"it will take some time to load the complete map\"]\n",
    "#5 secs break\n",
    "yes_response2_2 = [\"do you see a visualizer window with a map in it ?\"]\n",
    "no_response_2 = [\"ok wait\",  \"i will try to display again\"]\n",
    "\n",
    "#dialogue_3\n",
    "yes_response_3 = [\"that is great\", \"we are almost done.\", \"just a few more steps\",\n",
    "                \"Now then, do u see a green path ?\"]\n",
    "no_response_3 = [\"looks like I need to restart my navigation module\", \"please give me a moment\"]\n",
    "\n",
    "#dialogue_4\n",
    "yes_response_4 = [\"Wonderful!\", \"Now all u have to do is follow the green path\",\n",
    "                  \"and it will lead you to the caffeteria\",\n",
    "                  \" and please walk at a normal pace\", \"else\", \"I might loose my vision\" ]\n",
    "no_response_4 = [\"ok wait\", \"i will try to display again\"]\n",
    "\n",
    "#dialogue_5\n",
    "yes_response_5 = [\" did you reach your destination ?\"]\n",
    "no_response_5= [\" I see\", \"please continue \"]\n",
    "\n",
    "#dialogue_6\n",
    "yes_response_6 = [\"Enjoy your coffee\", \"and please put me back where I initially was\"]\n",
    "end_response_6 = [\"Good bye\", \"It was nice talking to you\"]\n",
    "\n",
    "# n is the dialogue number\n",
    "n = 4\n",
    "# part number  ....yes is part 1 and No is part 2\n",
    "p = 1\n",
    "text = yes_response_4\n",
    "os. chdir(\"/home/sonu/audio_files_SARA\"+\"/dialogue_\" + str(n))\n",
    "\n",
    "\n",
    "for i in range (0, len(text)):\n",
    "    tts = gTTS(text[i])\n",
    "    tts.save('audio_'+ str(i) + '.mp3')\n",
    "\n",
    "sound_full = AudioSegment.from_mp3(\"audio_0.mp3\")\n",
    "for i in range (1, len(text)):\n",
    "    sound = AudioSegment.from_mp3(\"audio_\"+ str(i)+ \".mp3\")\n",
    "    sound_full += sound \n",
    "    print(type(sound))\n",
    "    \n",
    "sound_full.export(\"dialogue_\" + str(n) + \"_part\" + str(p) + \".mp3\", format=\"mp3\")\n",
    "\n",
    "\n",
    "#listen to the file to confirm \n",
    "path = \"mpg123\" + \" \" + \"dialogue_\" + str(n) + \"_part\" + str(p) + \".mp3\"\n",
    "os.system(path)\n",
    "\n"
   ]
  },
  {
   "cell_type": "code",
   "execution_count": null,
   "metadata": {},
   "outputs": [],
   "source": []
  }
 ],
 "metadata": {
  "kernelspec": {
   "display_name": "Python 3",
   "language": "python",
   "name": "python3"
  },
  "language_info": {
   "codemirror_mode": {
    "name": "ipython",
    "version": 3
   },
   "file_extension": ".py",
   "mimetype": "text/x-python",
   "name": "python",
   "nbconvert_exporter": "python",
   "pygments_lexer": "ipython3",
   "version": "3.5.2"
  }
 },
 "nbformat": 4,
 "nbformat_minor": 2
}
